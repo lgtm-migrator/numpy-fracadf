{
 "cells": [
  {
   "cell_type": "markdown",
   "metadata": {},
   "source": [
    "# Download Demo Dataset"
   ]
  },
  {
   "cell_type": "code",
   "execution_count": 1,
   "metadata": {},
   "outputs": [],
   "source": [
    "import quandl\n",
    "import pandas as pd\n",
    "import numpy as np"
   ]
  },
  {
   "cell_type": "code",
   "execution_count": 2,
   "metadata": {},
   "outputs": [],
   "source": [
    "quandl.read_key()"
   ]
  },
  {
   "cell_type": "code",
   "execution_count": 3,
   "metadata": {},
   "outputs": [],
   "source": [
    "ticker = [\n",
    "    \"EIA/PET_RWTC_D\",  # Cushing, OK WTI Spot Price FOB\n",
    "    \"ML/EMCTRI\",  # Emerging Markets Corp Bonds TR Index\n",
    "    \"ML/TRI\",  # US Corporate Bonds Total Return Index\n",
    "    \"NASDAQOMX/NQEU.4\"  # NASDAQ Europe Index (NQEU) with dividends\n",
    "]"
   ]
  },
  {
   "cell_type": "code",
   "execution_count": 4,
   "metadata": {},
   "outputs": [],
   "source": [
    "start_dt = \"2013-01-01\";\n",
    "end_dt = \"2015-12-31\";"
   ]
  },
  {
   "cell_type": "code",
   "execution_count": 5,
   "metadata": {},
   "outputs": [
    {
     "name": "stdout",
     "output_type": "stream",
     "text": [
      "CPU times: user 1.36 s, sys: 59.2 ms, total: 1.42 s\n",
      "Wall time: 6.01 s\n"
     ]
    }
   ],
   "source": [
    "%%time\n",
    "df = quandl.get(ticker, start_date=start_dt, end_date=end_dt)"
   ]
  },
  {
   "cell_type": "code",
   "execution_count": 6,
   "metadata": {},
   "outputs": [
    {
     "data": {
      "text/html": [
       "<div>\n",
       "<style scoped>\n",
       "    .dataframe tbody tr th:only-of-type {\n",
       "        vertical-align: middle;\n",
       "    }\n",
       "\n",
       "    .dataframe tbody tr th {\n",
       "        vertical-align: top;\n",
       "    }\n",
       "\n",
       "    .dataframe thead th {\n",
       "        text-align: right;\n",
       "    }\n",
       "</style>\n",
       "<table border=\"1\" class=\"dataframe\">\n",
       "  <thead>\n",
       "    <tr style=\"text-align: right;\">\n",
       "      <th></th>\n",
       "      <th>EIA/PET_RWTC_D - Value</th>\n",
       "      <th>ML/EMCTRI - BAMLEMCBPITRIV</th>\n",
       "      <th>ML/TRI - BAMLCC0A0CMTRIV</th>\n",
       "      <th>NASDAQOMX/NQEU - Total Market Value</th>\n",
       "    </tr>\n",
       "  </thead>\n",
       "  <tbody>\n",
       "    <tr>\n",
       "      <th>2013-01-01</th>\n",
       "      <td>NaN</td>\n",
       "      <td>NaN</td>\n",
       "      <td>NaN</td>\n",
       "      <td>8.443155e+12</td>\n",
       "    </tr>\n",
       "    <tr>\n",
       "      <th>2013-01-02</th>\n",
       "      <td>93.14</td>\n",
       "      <td>325.32</td>\n",
       "      <td>2442.11</td>\n",
       "      <td>8.641106e+12</td>\n",
       "    </tr>\n",
       "    <tr>\n",
       "      <th>2013-01-03</th>\n",
       "      <td>92.97</td>\n",
       "      <td>325.83</td>\n",
       "      <td>2437.24</td>\n",
       "      <td>8.597647e+12</td>\n",
       "    </tr>\n",
       "    <tr>\n",
       "      <th>2013-01-04</th>\n",
       "      <td>93.12</td>\n",
       "      <td>326.20</td>\n",
       "      <td>2438.35</td>\n",
       "      <td>8.589803e+12</td>\n",
       "    </tr>\n",
       "    <tr>\n",
       "      <th>2013-01-07</th>\n",
       "      <td>93.20</td>\n",
       "      <td>326.61</td>\n",
       "      <td>2442.18</td>\n",
       "      <td>8.596031e+12</td>\n",
       "    </tr>\n",
       "  </tbody>\n",
       "</table>\n",
       "</div>"
      ],
      "text/plain": [
       "            EIA/PET_RWTC_D - Value  ML/EMCTRI - BAMLEMCBPITRIV  \\\n",
       "2013-01-01                     NaN                         NaN   \n",
       "2013-01-02                   93.14                      325.32   \n",
       "2013-01-03                   92.97                      325.83   \n",
       "2013-01-04                   93.12                      326.20   \n",
       "2013-01-07                   93.20                      326.61   \n",
       "\n",
       "            ML/TRI - BAMLCC0A0CMTRIV  NASDAQOMX/NQEU - Total Market Value  \n",
       "2013-01-01                       NaN                         8.443155e+12  \n",
       "2013-01-02                   2442.11                         8.641106e+12  \n",
       "2013-01-03                   2437.24                         8.597647e+12  \n",
       "2013-01-04                   2438.35                         8.589803e+12  \n",
       "2013-01-07                   2442.18                         8.596031e+12  "
      ]
     },
     "execution_count": 6,
     "metadata": {},
     "output_type": "execute_result"
    }
   ],
   "source": [
    "df.head()"
   ]
  },
  {
   "cell_type": "code",
   "execution_count": 7,
   "metadata": {},
   "outputs": [],
   "source": [
    "# preprocess\n",
    "names = list(df.columns)\n",
    "\n",
    "# Weekday Grid\n",
    "t = pd.date_range(start=start_dt, end=end_dt, freq='D')\n",
    "t = t[t.weekday <= 4]\n",
    "\n",
    "# Map downloaded data 'df' to weekday grid 't'\n",
    "px = pd.DataFrame(index=t).join(df, how='left') \n",
    "px = px.fillna(method='ffill')  # previous tick interpolation\n",
    "px = px.values"
   ]
  },
  {
   "cell_type": "code",
   "execution_count": 8,
   "metadata": {},
   "outputs": [],
   "source": [
    "!mkdir data/\n",
    "np.savez('data/demo1.npz', t=t, px=px)"
   ]
  }
 ],
 "metadata": {
  "kernelspec": {
   "display_name": "Python 3",
   "language": "python",
   "name": "python3"
  },
  "language_info": {
   "codemirror_mode": {
    "name": "ipython",
    "version": 3
   },
   "file_extension": ".py",
   "mimetype": "text/x-python",
   "name": "python",
   "nbconvert_exporter": "python",
   "pygments_lexer": "ipython3",
   "version": "3.6.3"
  }
 },
 "nbformat": 4,
 "nbformat_minor": 4
}
