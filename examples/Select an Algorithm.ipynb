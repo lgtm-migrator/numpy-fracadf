{
 "cells": [
  {
   "cell_type": "code",
   "execution_count": 1,
   "metadata": {},
   "outputs": [],
   "source": [
    "%load_ext autoreload\n",
    "%autoreload 2"
   ]
  },
  {
   "cell_type": "markdown",
   "metadata": {},
   "source": [
    "# Load Packages"
   ]
  },
  {
   "cell_type": "code",
   "execution_count": 2,
   "metadata": {
    "ExecuteTime": {
     "end_time": "2018-09-18T08:12:38.232692Z",
     "start_time": "2018-09-18T08:12:38.223700Z"
    }
   },
   "outputs": [],
   "source": [
    "import sys\n",
    "sys.path.append('..')\n",
    "\n",
    "import matplotlib.pyplot as plt\n",
    "%matplotlib inline\n",
    "\n",
    "from numpy_fracdiff import fracdiff\n",
    "import numpy as np\n",
    "\n",
    "from statsmodels.tsa.stattools import adfuller\n",
    "import scipy.optimize"
   ]
  },
  {
   "cell_type": "markdown",
   "metadata": {
    "ExecuteTime": {
     "end_time": "2018-09-18T08:12:38.249524Z",
     "start_time": "2018-09-18T08:12:38.237886Z"
    }
   },
   "source": [
    "# Load Data"
   ]
  },
  {
   "cell_type": "code",
   "execution_count": 3,
   "metadata": {},
   "outputs": [],
   "source": [
    "with np.load('data/demo1.npz') as data:\n",
    "    X = data['px']\n",
    "    #t = data['t']"
   ]
  },
  {
   "cell_type": "code",
   "execution_count": 4,
   "metadata": {},
   "outputs": [
    {
     "data": {
      "text/plain": [
       "782"
      ]
     },
     "execution_count": 4,
     "metadata": {},
     "output_type": "execute_result"
    }
   ],
   "source": [
    "X = X[1:]  # chop 01-Jan\n",
    "len(X)"
   ]
  },
  {
   "cell_type": "markdown",
   "metadata": {},
   "source": [
    "# Example\n",
    "Transform all $X$ time series with `fracdiff` by the fractal order $d=0.3$.\n",
    "Truncate at 100 (i.e. chop the first 100 NANs too)."
   ]
  },
  {
   "cell_type": "code",
   "execution_count": 5,
   "metadata": {},
   "outputs": [],
   "source": [
    "Z = fracdiff(X, order=0.3, truncation=100)\n",
    "#np.isnan(Z[100:]).sum(axis=0)\n",
    "Z = Z[100:]"
   ]
  },
  {
   "cell_type": "markdown",
   "metadata": {},
   "source": [
    "Run the ADF test on all 0.3 fractal differentiated times series"
   ]
  },
  {
   "cell_type": "code",
   "execution_count": 6,
   "metadata": {},
   "outputs": [
    {
     "name": "stdout",
     "output_type": "stream",
     "text": [
      "p-values: 0.4009 | ADF: -1.759\n",
      "p-values: 0.0863 | ADF: -2.633\n",
      "p-values: 0.0341 | ADF: -3.008\n",
      "p-values: 0.0000 | ADF: -5.322\n"
     ]
    }
   ],
   "source": [
    "for j in range(4):\n",
    "    adf, pval, _, _, _, _ = adfuller(Z[:, j], regression='c', autolag='BIC')\n",
    "    print(\"p-values: {:5.4f} | ADF: {:>6.3f}\".format(pval, adf))"
   ]
  },
  {
   "cell_type": "markdown",
   "metadata": {},
   "source": [
    "# Backtracking\n",
    "For $d=1$ we usually get a stationary time series transform.\n",
    "Thus, let start at $d=1$ and reduce towards $d=0$, \n",
    "and stop when the p-value exceeds the threshold $\\alpha=0.01$."
   ]
  },
  {
   "cell_type": "code",
   "execution_count": 7,
   "metadata": {},
   "outputs": [
    {
     "name": "stdout",
     "output_type": "stream",
     "text": [
      "d: 0.9667 | p-val: 0.00E+00\n",
      "d: 0.9333 | p-val: 0.00E+00\n",
      "d: 0.9000 | p-val: 0.00E+00\n",
      "d: 0.8667 | p-val: 6.37E-29\n",
      "d: 0.8333 | p-val: 1.05E-21\n",
      "d: 0.8000 | p-val: 5.57E-20\n",
      "d: 0.7667 | p-val: 4.12E-18\n",
      "d: 0.7333 | p-val: 3.86E-16\n",
      "d: 0.7000 | p-val: 6.56E-11\n",
      "d: 0.6667 | p-val: 2.72E-09\n",
      "d: 0.6333 | p-val: 8.89E-08\n",
      "d: 0.6000 | p-val: 2.10E-06\n",
      "d: 0.5667 | p-val: 2.05E-03\n",
      "d: 0.5333 | p-val: 8.89E-03\n",
      "d: 0.5000 | p-val: 2.91E-02\n",
      "best d=0.5333333333333333\n",
      "CPU times: user 759 ms, sys: 91.1 ms, total: 851 ms\n",
      "Wall time: 470 ms\n"
     ]
    }
   ],
   "source": [
    "%%time\n",
    "x = X[:, 0]  # pick the 1st time series\n",
    "\n",
    "n_steps = 30\n",
    "order = 1\n",
    "n_trunc = 100\n",
    "alpha = 0.01\n",
    "bestorder = order\n",
    "\n",
    "for order in np.flip(np.arange(n_steps) / n_steps):\n",
    "    z = fracdiff(x, order=order, truncation=n_trunc)\n",
    "    _, pval, _, _, _, _ = adfuller(z[n_trunc:], regression='c', autolag='BIC')\n",
    "    print(\"d: {:5.4f} | p-val: {:1.2E}\".format(order, pval))\n",
    "    if pval > alpha:\n",
    "        break\n",
    "    else:\n",
    "        bestorder = order\n",
    "\n",
    "print(f\"best d={bestorder}\")"
   ]
  },
  {
   "cell_type": "markdown",
   "metadata": {},
   "source": [
    "# Bisection\n",
    "We will use difference between the ADF test p-value and required threshold $\\alpha$.\n",
    "The bisections requires the sign of this differences."
   ]
  },
  {
   "cell_type": "code",
   "execution_count": 8,
   "metadata": {},
   "outputs": [],
   "source": [
    "def loss_fn(d: float, alpha: float, x: np.array, n_trunc: int) -> float:\n",
    "    z = fracdiff(x, order=d, truncation=n_trunc)\n",
    "    _, pval, _, _, _, _ = adfuller(z[n_trunc:], regression='c', autolag='BIC')\n",
    "    return pval - alpha  # for Bisection"
   ]
  },
  {
   "cell_type": "code",
   "execution_count": 9,
   "metadata": {},
   "outputs": [
    {
     "data": {
      "text/plain": [
       "(0.966761902563547, -0.01)"
      ]
     },
     "execution_count": 9,
     "metadata": {},
     "output_type": "execute_result"
    }
   ],
   "source": [
    "loss_fn(0, alpha, x, n_trunc), loss_fn(1, alpha, x, n_trunc)"
   ]
  },
  {
   "cell_type": "markdown",
   "metadata": {},
   "source": [
    "Also note, that the `xtol` parameter doesn't need to be super precise.\n",
    "We will abort if the p-value is 1% away from $\\alpha$, i.e. `xtol=alpha*.01`"
   ]
  },
  {
   "cell_type": "code",
   "execution_count": 10,
   "metadata": {},
   "outputs": [
    {
     "name": "stdout",
     "output_type": "stream",
     "text": [
      "CPU times: user 729 ms, sys: 76.4 ms, total: 806 ms\n",
      "Wall time: 416 ms\n"
     ]
    },
    {
     "data": {
      "text/plain": [
       "0.53033447265625"
      ]
     },
     "execution_count": 10,
     "metadata": {},
     "output_type": "execute_result"
    }
   ],
   "source": [
    "%%time\n",
    "x = X[:, 0]  # pick the 1st time series\n",
    "n_trunc = 100\n",
    "alpha = 0.01\n",
    "\n",
    "d = scipy.optimize.bisect(loss_fn, 0, 1, args=(alpha, x, n_trunc), xtol=alpha*.01)\n",
    "d"
   ]
  },
  {
   "cell_type": "markdown",
   "metadata": {},
   "source": [
    "The Ridder method is faster than the bisection method."
   ]
  },
  {
   "cell_type": "code",
   "execution_count": 11,
   "metadata": {},
   "outputs": [
    {
     "name": "stdout",
     "output_type": "stream",
     "text": [
      "CPU times: user 477 ms, sys: 52.2 ms, total: 529 ms\n",
      "Wall time: 279 ms\n"
     ]
    },
    {
     "data": {
      "text/plain": [
       "0.5302962674827497"
      ]
     },
     "execution_count": 11,
     "metadata": {},
     "output_type": "execute_result"
    }
   ],
   "source": [
    "%%time\n",
    "x = X[:, 0]  # pick the 1st time series\n",
    "n_trunc = 100\n",
    "alpha = 0.01\n",
    "\n",
    "d = scipy.optimize.ridder(loss_fn, 0, 1, args=(alpha, x, n_trunc), xtol=alpha*.01)\n",
    "d"
   ]
  },
  {
   "cell_type": "code",
   "execution_count": 12,
   "metadata": {},
   "outputs": [
    {
     "name": "stdout",
     "output_type": "stream",
     "text": [
      "CPU times: user 572 ms, sys: 61 ms, total: 633 ms\n",
      "Wall time: 344 ms\n"
     ]
    },
    {
     "data": {
      "text/plain": [
       "0.5303438239411459"
      ]
     },
     "execution_count": 12,
     "metadata": {},
     "output_type": "execute_result"
    }
   ],
   "source": [
    "%%time\n",
    "x = X[:, 0]  # pick the 1st time series\n",
    "n_trunc = 100\n",
    "alpha = 0.01\n",
    "\n",
    "d = scipy.optimize.brenth(loss_fn, 0, 1, args=(alpha, x, n_trunc), xtol=alpha*.01)\n",
    "d"
   ]
  },
  {
   "cell_type": "code",
   "execution_count": 13,
   "metadata": {},
   "outputs": [
    {
     "name": "stdout",
     "output_type": "stream",
     "text": [
      "CPU times: user 573 ms, sys: 61.7 ms, total: 634 ms\n",
      "Wall time: 337 ms\n"
     ]
    },
    {
     "data": {
      "text/plain": [
       "0.5303403710498779"
      ]
     },
     "execution_count": 13,
     "metadata": {},
     "output_type": "execute_result"
    }
   ],
   "source": [
    "%%time\n",
    "x = X[:, 0]  # pick the 1st time series\n",
    "n_trunc = 100\n",
    "alpha = 0.01\n",
    "\n",
    "d = scipy.optimize.brentq(loss_fn, 0, 1, args=(alpha, x, n_trunc), xtol=alpha*.01)\n",
    "d"
   ]
  },
  {
   "cell_type": "markdown",
   "metadata": {},
   "source": [
    "# Squared Errors\n",
    "We will use the squared difference betweent the ADF test p-value and required threshold $\\alpha$ as target function for a minimization problem.\n",
    "\n",
    "$$\n",
    "\\min_d \\; ({\\rm pvalue}(d) - \\alpha)^2\n",
    "$$"
   ]
  },
  {
   "cell_type": "code",
   "execution_count": 14,
   "metadata": {},
   "outputs": [],
   "source": [
    "def loss_fn(d: float, alpha: float, x: np.array, n_trunc: int) -> float:\n",
    "    z = fracdiff(x, order=d, truncation=n_trunc)\n",
    "    _, pval, _, _, _, _ = adfuller(z[n_trunc:], regression='c', autolag='BIC')\n",
    "    return (pval - alpha)**2"
   ]
  },
  {
   "cell_type": "markdown",
   "metadata": {},
   "source": [
    "The newton method is kind of unstable depending on the start value `x0` (e.g. 0.0 and 1.0 will fail)"
   ]
  },
  {
   "cell_type": "code",
   "execution_count": 15,
   "metadata": {},
   "outputs": [
    {
     "name": "stdout",
     "output_type": "stream",
     "text": [
      "CPU times: user 1.84 s, sys: 190 ms, total: 2.03 s\n",
      "Wall time: 1.12 s\n"
     ]
    },
    {
     "data": {
      "text/plain": [
       "0.5303404343390861"
      ]
     },
     "execution_count": 15,
     "metadata": {},
     "output_type": "execute_result"
    }
   ],
   "source": [
    "%%time\n",
    "x = X[:, 0]  # pick the 1st time series\n",
    "n_trunc = 100\n",
    "alpha = 0.01\n",
    "\n",
    "d = scipy.optimize.newton(loss_fn, .1, args=(alpha, x, n_trunc), tol=(alpha*.01)**2)\n",
    "d"
   ]
  },
  {
   "cell_type": "code",
   "execution_count": 16,
   "metadata": {},
   "outputs": [
    {
     "name": "stdout",
     "output_type": "stream",
     "text": [
      "doesn't with numba.jit decorator around frac_weights\n"
     ]
    }
   ],
   "source": [
    "\"\"\"\n",
    "%%time\n",
    "x = X[:, 0]  # pick the 1st time series\n",
    "n_trunc = 100\n",
    "alpha = 0.01\n",
    "\n",
    "d = scipy.optimize.fmin(loss_fn, 0.1, args=(alpha, x, n_trunc), xtol=(alpha*.01)**2)\n",
    "d\n",
    "\"\"\"\n",
    "print(\"doesn't with numba.jit decorator around frac_weights\")"
   ]
  },
  {
   "cell_type": "code",
   "execution_count": 17,
   "metadata": {},
   "outputs": [
    {
     "name": "stdout",
     "output_type": "stream",
     "text": [
      "doesn't with numba.jit decorator around frac_weights\n"
     ]
    }
   ],
   "source": [
    "\"\"\"\n",
    "%%time\n",
    "x = X[:, 0]  # pick the 1st time series\n",
    "n_trunc = 100\n",
    "alpha = 0.01\n",
    "\n",
    "d = scipy.optimize.fsolve(loss_fn, 0.1, args=(alpha, x, n_trunc), xtol=(alpha*.01)**2)\n",
    "d\n",
    "\"\"\"\n",
    "print(\"doesn't with numba.jit decorator around frac_weights\")"
   ]
  },
  {
   "cell_type": "markdown",
   "metadata": {},
   "source": [
    "# Conclusion\n",
    "The Ridder method seems to be fast way to find a fractal differentiation order."
   ]
  }
 ],
 "metadata": {
  "kernelspec": {
   "display_name": "Python 3",
   "language": "python",
   "name": "python3"
  },
  "language_info": {
   "codemirror_mode": {
    "name": "ipython",
    "version": 3
   },
   "file_extension": ".py",
   "mimetype": "text/x-python",
   "name": "python",
   "nbconvert_exporter": "python",
   "pygments_lexer": "ipython3",
   "version": "3.6.3"
  },
  "toc": {
   "base_numbering": 1,
   "nav_menu": {},
   "number_sections": true,
   "sideBar": true,
   "skip_h1_title": false,
   "title_cell": "Table of Contents",
   "title_sidebar": "Contents",
   "toc_cell": false,
   "toc_position": {},
   "toc_section_display": true,
   "toc_window_display": false
  },
  "varInspector": {
   "cols": {
    "lenName": 16,
    "lenType": 16,
    "lenVar": 40
   },
   "kernels_config": {
    "python": {
     "delete_cmd_postfix": "",
     "delete_cmd_prefix": "del ",
     "library": "var_list.py",
     "varRefreshCmd": "print(var_dic_list())"
    },
    "r": {
     "delete_cmd_postfix": ") ",
     "delete_cmd_prefix": "rm(",
     "library": "var_list.r",
     "varRefreshCmd": "cat(var_dic_list()) "
    }
   },
   "types_to_exclude": [
    "module",
    "function",
    "builtin_function_or_method",
    "instance",
    "_Feature"
   ],
   "window_display": false
  }
 },
 "nbformat": 4,
 "nbformat_minor": 4
}
