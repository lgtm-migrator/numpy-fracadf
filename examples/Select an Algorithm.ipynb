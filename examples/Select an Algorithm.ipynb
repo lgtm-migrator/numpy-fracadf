{
 "cells": [
  {
   "cell_type": "code",
   "execution_count": 1,
   "metadata": {},
   "outputs": [],
   "source": [
    "%load_ext autoreload\n",
    "%autoreload 2"
   ]
  },
  {
   "cell_type": "markdown",
   "metadata": {},
   "source": [
    "# Load Packages"
   ]
  },
  {
   "cell_type": "code",
   "execution_count": 2,
   "metadata": {
    "ExecuteTime": {
     "end_time": "2018-09-18T08:12:38.232692Z",
     "start_time": "2018-09-18T08:12:38.223700Z"
    }
   },
   "outputs": [],
   "source": [
    "import sys\n",
    "sys.path.append('..')\n",
    "\n",
    "import matplotlib.pyplot as plt\n",
    "%matplotlib inline\n",
    "\n",
    "from numpy_fracdiff import fracdiff\n",
    "import numpy as np\n",
    "\n",
    "from statsmodels.tsa.stattools import adfuller\n",
    "import scipy.optimize"
   ]
  },
  {
   "cell_type": "markdown",
   "metadata": {
    "ExecuteTime": {
     "end_time": "2018-09-18T08:12:38.249524Z",
     "start_time": "2018-09-18T08:12:38.237886Z"
    }
   },
   "source": [
    "# Load Data"
   ]
  },
  {
   "cell_type": "code",
   "execution_count": 3,
   "metadata": {},
   "outputs": [],
   "source": [
    "with np.load('data/demo1.npz') as data:\n",
    "    X = data['px']\n",
    "    #t = data['t']"
   ]
  },
  {
   "cell_type": "code",
   "execution_count": 4,
   "metadata": {},
   "outputs": [
    {
     "data": {
      "text/plain": [
       "782"
      ]
     },
     "execution_count": 4,
     "metadata": {},
     "output_type": "execute_result"
    }
   ],
   "source": [
    "X = X[1:]  # chop 01-Jan\n",
    "len(X)"
   ]
  },
  {
   "cell_type": "markdown",
   "metadata": {},
   "source": [
    "# Example\n",
    "Transform all $X$ time series with `fracdiff` by the fractal order $d=0.3$.\n",
    "Truncate at 100 (i.e. chop the first 100 NANs too)."
   ]
  },
  {
   "cell_type": "code",
   "execution_count": 5,
   "metadata": {},
   "outputs": [],
   "source": [
    "Z = fracdiff(X, order=0.3, truncation=100)\n",
    "#np.isnan(Z[100:]).sum(axis=0)\n",
    "Z = Z[100:]"
   ]
  },
  {
   "cell_type": "markdown",
   "metadata": {},
   "source": [
    "Run the ADF test on all 0.3 fractal differentiated times series"
   ]
  },
  {
   "cell_type": "code",
   "execution_count": 6,
   "metadata": {},
   "outputs": [
    {
     "name": "stdout",
     "output_type": "stream",
     "text": [
      "p-values: 0.4009 | ADF: -1.759\n",
      "p-values: 0.0863 | ADF: -2.633\n",
      "p-values: 0.0341 | ADF: -3.008\n",
      "p-values: 0.0000 | ADF: -5.322\n"
     ]
    }
   ],
   "source": [
    "for j in range(4):\n",
    "    adf, pval, _, _, _, _ = adfuller(Z[:, j], regression='c', autolag='BIC')\n",
    "    print(\"p-values: {:5.4f} | ADF: {:>6.3f}\".format(pval, adf))"
   ]
  },
  {
   "cell_type": "markdown",
   "metadata": {},
   "source": [
    "# Backtracking\n",
    "For $d=1$ we usually get a stationary time series transform.\n",
    "Thus, let start at $d=1$ and reduce towards $d=0$, \n",
    "and stop when the p-value exceeds the threshold $\\alpha=0.01$."
   ]
  },
  {
   "cell_type": "code",
   "execution_count": 7,
   "metadata": {},
   "outputs": [
    {
     "name": "stdout",
     "output_type": "stream",
     "text": [
      "d: 0.9667 | DF:-28.0859 | crit:-3.4400 | p-val: 0.00E+00\n",
      "d: 0.9333 | DF:-26.9952 | crit:-3.4400 | p-val: 0.00E+00\n",
      "d: 0.9000 | DF:-25.8410 | crit:-3.4400 | p-val: 0.00E+00\n",
      "d: 0.8667 | DF:-16.0098 | crit:-3.4400 | p-val: 6.37E-29\n",
      "d: 0.8333 | DF:-11.7790 | crit:-3.4400 | p-val: 1.05E-21\n",
      "d: 0.8000 | DF:-11.0341 | crit:-3.4400 | p-val: 5.57E-20\n",
      "d: 0.7667 | DF:-10.2660 | crit:-3.4400 | p-val: 4.12E-18\n",
      "d: 0.7333 | DF:-9.4815 | crit:-3.4400 | p-val: 3.86E-16\n",
      "d: 0.7000 | DF:-7.4257 | crit:-3.4400 | p-val: 6.56E-11\n",
      "d: 0.6667 | DF:-6.7656 | crit:-3.4400 | p-val: 2.72E-09\n",
      "d: 0.6333 | DF:-6.1202 | crit:-3.4400 | p-val: 8.89E-08\n",
      "d: 0.6000 | DF:-5.4981 | crit:-3.4400 | p-val: 2.10E-06\n",
      "d: 0.5667 | DF:-3.8975 | crit:-3.4401 | p-val: 2.05E-03\n",
      "d: 0.5333 | DF:-3.4665 | crit:-3.4401 | p-val: 8.89E-03\n",
      "d: 0.5000 | DF:-3.0669 | crit:-3.4401 | p-val: 2.91E-02\n",
      "d: 0.4667 | DF:-2.6991 | crit:-3.4401 | p-val: 7.42E-02\n",
      "d: 0.4333 | DF:-2.9368 | crit:-3.4400 | p-val: 4.12E-02\n",
      "d: 0.4000 | DF:-2.5472 | crit:-3.4400 | p-val: 1.04E-01\n",
      "d: 0.3667 | DF:-2.4559 | crit:-3.4400 | p-val: 1.27E-01\n",
      "d: 0.3333 | DF:-2.0886 | crit:-3.4400 | p-val: 2.49E-01\n",
      "d: 0.3000 | DF:-1.7592 | crit:-3.4400 | p-val: 4.01E-01\n",
      "d: 0.2667 | DF:-1.4623 | crit:-3.4400 | p-val: 5.52E-01\n",
      "d: 0.2333 | DF:-1.1927 | crit:-3.4400 | p-val: 6.77E-01\n",
      "d: 0.2000 | DF:-0.9455 | crit:-3.4400 | p-val: 7.73E-01\n",
      "d: 0.1667 | DF:-0.8562 | crit:-3.4400 | p-val: 8.02E-01\n",
      "d: 0.1333 | DF:-0.6088 | crit:-3.4400 | p-val: 8.69E-01\n",
      "d: 0.1000 | DF:-0.3749 | crit:-3.4400 | p-val: 9.14E-01\n",
      "d: 0.0667 | DF:-0.1501 | crit:-3.4400 | p-val: 9.44E-01\n",
      "d: 0.0333 | DF: 0.0697 | crit:-3.4400 | p-val: 9.64E-01\n",
      "d: 0.0000 | DF: 0.2875 | crit:-3.4400 | p-val: 9.77E-01\n",
      "best d=0.6\n",
      "CPU times: user 1.84 s, sys: 180 ms, total: 2.02 s\n",
      "Wall time: 1.16 s\n"
     ]
    }
   ],
   "source": [
    "%%time\n",
    "x = X[:, 0]  # pick the 1st time series\n",
    "\n",
    "n_steps = 30\n",
    "order = 1\n",
    "n_trunc = 100\n",
    "alpha = 0.001\n",
    "bestorder = order\n",
    "\n",
    "for order in np.flip(np.arange(n_steps) / n_steps):\n",
    "    z = fracdiff(x, order=order, truncation=n_trunc)\n",
    "    stat, pval, _, _, crit, _ = adfuller(z[n_trunc:], regression='c', autolag='BIC')\n",
    "    print(\"d: {:5.4f} | DF:{: 7.4f} | crit:{: 7.4f} | p-val: {:1.2E}\".format(\n",
    "        order, stat, crit['1%'], pval))\n",
    "    \n",
    "    if (stat < crit['1%']) and (pval < alpha):\n",
    "        bestorder = order\n",
    "    else:\n",
    "        #break\n",
    "        pass\n",
    "        \n",
    "\n",
    "print(f\"best d={bestorder}\")"
   ]
  },
  {
   "cell_type": "markdown",
   "metadata": {},
   "source": [
    "# Bisection\n",
    "We will use difference between the ADF test p-value and required threshold $\\alpha$.\n",
    "The bisections requires the sign of this differences."
   ]
  },
  {
   "cell_type": "code",
   "execution_count": 8,
   "metadata": {},
   "outputs": [],
   "source": [
    "def loss_fn(d: float, alpha: float, x: np.array, n_trunc: int) -> float:\n",
    "    z = fracdiff(x, order=d, truncation=n_trunc)\n",
    "    stat, pval, _, _, crit, _ = adfuller(z[n_trunc:], regression='c', autolag='BIC')\n",
    "    return stat - (crit['1%'] * 1.0001) #+ (alpha - pval)"
   ]
  },
  {
   "cell_type": "code",
   "execution_count": 9,
   "metadata": {},
   "outputs": [
    {
     "data": {
      "text/plain": [
       "(3.7278096266363696, -25.67897829869691)"
      ]
     },
     "execution_count": 9,
     "metadata": {},
     "output_type": "execute_result"
    }
   ],
   "source": [
    "loss_fn(0, alpha, x, n_trunc), loss_fn(1, alpha, x, n_trunc)"
   ]
  },
  {
   "cell_type": "markdown",
   "metadata": {},
   "source": [
    "Also note, that the `xtol` parameter doesn't need to be super precise.\n",
    "We will abort if the p-value is 1% away from $\\alpha$, i.e. `xtol=alpha*.01`"
   ]
  },
  {
   "cell_type": "code",
   "execution_count": 10,
   "metadata": {},
   "outputs": [
    {
     "name": "stdout",
     "output_type": "stream",
     "text": [
      "CPU times: user 721 ms, sys: 69.9 ms, total: 791 ms\n",
      "Wall time: 403 ms\n"
     ]
    },
    {
     "data": {
      "text/plain": [
       "0.5311907958984375"
      ]
     },
     "execution_count": 10,
     "metadata": {},
     "output_type": "execute_result"
    }
   ],
   "source": [
    "x = X[:, 0]  # pick the 1st time series\n",
    "n_trunc = 100\n",
    "alpha = 0.01\n",
    "\n",
    "%time d = scipy.optimize.bisect(loss_fn, 0.01, 1.5, args=(alpha, x, n_trunc), xtol=1e-04)\n",
    "d"
   ]
  },
  {
   "cell_type": "markdown",
   "metadata": {},
   "source": [
    "The Ridder method is faster than the bisection method."
   ]
  },
  {
   "cell_type": "code",
   "execution_count": 11,
   "metadata": {},
   "outputs": [
    {
     "name": "stdout",
     "output_type": "stream",
     "text": [
      "CPU times: user 746 ms, sys: 73.2 ms, total: 820 ms\n",
      "Wall time: 416 ms\n"
     ]
    },
    {
     "data": {
      "text/plain": [
       "0.5312875459658993"
      ]
     },
     "execution_count": 11,
     "metadata": {},
     "output_type": "execute_result"
    }
   ],
   "source": [
    "x = X[:, 0]  # pick the 1st time series\n",
    "n_trunc = 100\n",
    "alpha = 0.01\n",
    "\n",
    "%time d = scipy.optimize.ridder(loss_fn, 0.01, 1.5, args=(alpha, x, n_trunc), xtol=1e-04)\n",
    "d"
   ]
  },
  {
   "cell_type": "code",
   "execution_count": 12,
   "metadata": {},
   "outputs": [
    {
     "name": "stdout",
     "output_type": "stream",
     "text": [
      "CPU times: user 469 ms, sys: 49.5 ms, total: 519 ms\n",
      "Wall time: 299 ms\n"
     ]
    },
    {
     "data": {
      "text/plain": [
       "0.5312358466278839"
      ]
     },
     "execution_count": 12,
     "metadata": {},
     "output_type": "execute_result"
    }
   ],
   "source": [
    "x = X[:, 0]  # pick the 1st time series\n",
    "n_trunc = 100\n",
    "alpha = 0.01\n",
    "\n",
    "%time d = scipy.optimize.brenth(loss_fn, 0.01, 1.5, args=(alpha, x, n_trunc), xtol=1e-04)\n",
    "d"
   ]
  },
  {
   "cell_type": "code",
   "execution_count": 13,
   "metadata": {},
   "outputs": [
    {
     "name": "stdout",
     "output_type": "stream",
     "text": [
      "CPU times: user 425 ms, sys: 46.1 ms, total: 471 ms\n",
      "Wall time: 247 ms\n"
     ]
    },
    {
     "data": {
      "text/plain": [
       "0.5312233892293179"
      ]
     },
     "execution_count": 13,
     "metadata": {},
     "output_type": "execute_result"
    }
   ],
   "source": [
    "x = X[:, 0]  # pick the 1st time series\n",
    "n_trunc = 100\n",
    "alpha = 0.01\n",
    "\n",
    "%time d = scipy.optimize.brentq(loss_fn, 0.01, 1.5, args=(alpha, x, n_trunc), xtol=1e-04)\n",
    "d"
   ]
  },
  {
   "cell_type": "code",
   "execution_count": 14,
   "metadata": {},
   "outputs": [
    {
     "name": "stdout",
     "output_type": "stream",
     "text": [
      "d: 0.5312 | DF:-3.4402 | crit:-3.4401 | p-val: 9.66E-03\n"
     ]
    }
   ],
   "source": [
    "z = fracdiff(x, order=d, truncation=n_trunc)\n",
    "stat, pval, _, _, crit, _ = adfuller(z[n_trunc:], regression='c', autolag='BIC')\n",
    "print(\"d: {:5.4f} | DF:{: 7.4f} | crit:{: 7.4f} | p-val: {:1.2E}\".format(\n",
    "        d, stat, crit['1%'], pval))"
   ]
  },
  {
   "cell_type": "markdown",
   "metadata": {},
   "source": [
    "# Squared Errors\n",
    "We will use the squared difference betweent the ADF test p-value and required threshold $\\alpha$ as target function for a minimization problem.\n",
    "\n",
    "$$\n",
    "\\min_d \\; ({\\rm DF(d) - crit})^2\n",
    "$$"
   ]
  },
  {
   "cell_type": "code",
   "execution_count": 15,
   "metadata": {},
   "outputs": [],
   "source": [
    "def loss_fn(d: float, x: np.array, n_trunc: int) -> float:\n",
    "    z = fracdiff(x, order=d, truncation=n_trunc)\n",
    "    stat, pval, _, _, crit, _ = adfuller(z[n_trunc:], regression='c', autolag='BIC')\n",
    "    return (stat - crit['1%'])**2"
   ]
  },
  {
   "cell_type": "markdown",
   "metadata": {},
   "source": [
    "The newton method is kind of unstable depending on the start value `x0` (e.g. 0.0 and 1.0 will fail)"
   ]
  },
  {
   "cell_type": "code",
   "execution_count": 16,
   "metadata": {},
   "outputs": [
    {
     "name": "stdout",
     "output_type": "stream",
     "text": [
      "CPU times: user 1.44 s, sys: 149 ms, total: 1.59 s\n",
      "Wall time: 874 ms\n"
     ]
    },
    {
     "data": {
      "text/plain": [
       "0.5312097960053145"
      ]
     },
     "execution_count": 16,
     "metadata": {},
     "output_type": "execute_result"
    }
   ],
   "source": [
    "x = X[:, 0]  # pick the 1st time series\n",
    "n_trunc = 100\n",
    "alpha = 0.01\n",
    "\n",
    "%time d = scipy.optimize.newton(loss_fn, 0.5, args=(x, n_trunc), tol=(alpha*.01)**2, maxiter=500)\n",
    "d"
   ]
  },
  {
   "cell_type": "code",
   "execution_count": 17,
   "metadata": {},
   "outputs": [],
   "source": [
    "def loss_fn2(d: float, x: np.array, n_trunc: int) -> float:\n",
    "    z = fracdiff(x, order=d, truncation=n_trunc)\n",
    "    stat, pval, _, _, crit, _ = adfuller(z[n_trunc:], regression='c', autolag='BIC')\n",
    "    return (stat - crit['1%'])**2 + pval**2"
   ]
  },
  {
   "cell_type": "code",
   "execution_count": 18,
   "metadata": {},
   "outputs": [
    {
     "name": "stdout",
     "output_type": "stream",
     "text": [
      "CPU times: user 514 ms, sys: 57 ms, total: 571 ms\n",
      "Wall time: 345 ms\n",
      "0.5312082297394483\n",
      "CPU times: user 515 ms, sys: 58.2 ms, total: 574 ms\n",
      "Wall time: 323 ms\n",
      "0.5312319300973788\n"
     ]
    }
   ],
   "source": [
    "x = X[:, 0]  # pick the 1st time series\n",
    "n_trunc = 100\n",
    "alpha = 0.01\n",
    "\n",
    "%time d = scipy.optimize.fminbound(loss_fn, 0.01, 1.5, args=(x, n_trunc), xtol=1e-04, maxfun=200)\n",
    "print(d)\n",
    "\n",
    "%time d = scipy.optimize.fminbound(loss_fn2, 0.01, 1.5, args=(x, n_trunc), xtol=1e-04, maxfun=200)\n",
    "print(d)"
   ]
  },
  {
   "cell_type": "code",
   "execution_count": 19,
   "metadata": {},
   "outputs": [
    {
     "name": "stdout",
     "output_type": "stream",
     "text": [
      "d: 0.5312 | DF:-3.4403 | crit:-3.4401 | p-val: 9.66E-03\n"
     ]
    }
   ],
   "source": [
    "z = fracdiff(x, order=d, truncation=n_trunc)\n",
    "stat, pval, _, _, crit, _ = adfuller(z[n_trunc:], regression='c', autolag='BIC')\n",
    "print(\"d: {:5.4f} | DF:{: 7.4f} | crit:{: 7.4f} | p-val: {:1.2E}\".format(\n",
    "        d, stat, crit['1%'], pval))"
   ]
  },
  {
   "cell_type": "code",
   "execution_count": null,
   "metadata": {},
   "outputs": [],
   "source": []
  }
 ],
 "metadata": {
  "kernelspec": {
   "display_name": "Python 3",
   "language": "python",
   "name": "python3"
  },
  "language_info": {
   "codemirror_mode": {
    "name": "ipython",
    "version": 3
   },
   "file_extension": ".py",
   "mimetype": "text/x-python",
   "name": "python",
   "nbconvert_exporter": "python",
   "pygments_lexer": "ipython3",
   "version": "3.6.3"
  },
  "toc": {
   "base_numbering": 1,
   "nav_menu": {},
   "number_sections": true,
   "sideBar": true,
   "skip_h1_title": false,
   "title_cell": "Table of Contents",
   "title_sidebar": "Contents",
   "toc_cell": false,
   "toc_position": {},
   "toc_section_display": true,
   "toc_window_display": false
  },
  "varInspector": {
   "cols": {
    "lenName": 16,
    "lenType": 16,
    "lenVar": 40
   },
   "kernels_config": {
    "python": {
     "delete_cmd_postfix": "",
     "delete_cmd_prefix": "del ",
     "library": "var_list.py",
     "varRefreshCmd": "print(var_dic_list())"
    },
    "r": {
     "delete_cmd_postfix": ") ",
     "delete_cmd_prefix": "rm(",
     "library": "var_list.r",
     "varRefreshCmd": "cat(var_dic_list()) "
    }
   },
   "types_to_exclude": [
    "module",
    "function",
    "builtin_function_or_method",
    "instance",
    "_Feature"
   ],
   "window_display": false
  }
 },
 "nbformat": 4,
 "nbformat_minor": 4
}
